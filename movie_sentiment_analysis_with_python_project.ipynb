{
 "cells": [
  {
   "cell_type": "markdown",
   "id": "e55dacab-d981-4f56-a24f-839e7ccbf2a6",
   "metadata": {},
   "source": [
    "# AI/ML with Python: Moview_Review Sentiment Analysis with Python\n",
    "\n"
   ]
  },
  {
   "cell_type": "markdown",
   "id": "90348022",
   "metadata": {},
   "source": [
    "### Step 1: Introduction to NTLK\n",
    "\n",
    "The code begins by importing necessary libraries, including NLTK for natural language processing tasks, scikit-learn functions like `train_test_split` for dataset splitting, `TfidfVectorizer` for feature extraction using TF-IDF, and `SVC` for Support Vector Machine classification. Additionally, metrics such as `accuracy_score`, `classification_report`, and `confusion_matrix` are imported to evaluate the performance of the classifier and finally import `matplotlib.pyplot as plt`: This line imports the `matplotlib.pyplot` module, which is a collection of functions for creating static, animated, and interactive visualizations in Python. The plt alias is a commonly used convention to make it easier to reference this module in the code then we import `seaborn as sns`: This line imports the seaborn library, which is built on top of Matplotlib and provides a high-level interface for creating attractive statistical graphics. Seaborn comes with several built-in themes and color palettes to enhance the aesthetics of the plots. The sns alias is a common convention used for Seaborn."
   ]
  },
  {
   "cell_type": "code",
   "execution_count": 5,
   "id": "4df0be40-1cf6-4fbe-a528-133e4cfa943c",
   "metadata": {},
   "outputs": [],
   "source": [
    "# Import necessary libraries (Data Acquisition)\n",
    "\n",
    "import nltk\n",
    "from nltk.corpus import movie_reviews\n",
    "from sklearn.model_selection import train_test_split\n",
    "from sklearn.feature_extraction.text import TfidfVectorizer\n",
    "from sklearn.svm import SVC\n",
    "from sklearn.metrics import accuracy_score, classification_report, confusion_matrix\n",
    "import matplotlib.pyplot as plt\n",
    "import seaborn as sns\n"
   ]
  },
  {
   "cell_type": "markdown",
   "id": "2ad9d197-8f82-4622-9c0a-9cd9ce87d977",
   "metadata": {},
   "source": [
    "### Step 2: Download the movie reviews dataset from NLTK\n",
    "\n",
    "The next step involves downloading the movie reviews dataset from NLTK, specifically the `movie_reviews` corpus."
   ]
  },
  {
   "cell_type": "code",
   "execution_count": 6,
   "id": "da1dbfde-1c5f-43ec-a337-016a2a2c3b36",
   "metadata": {},
   "outputs": [
    {
     "name": "stderr",
     "output_type": "stream",
     "text": [
      "[nltk_data] Downloading package movie_reviews to\n",
      "[nltk_data]     C:\\Users\\91704\\AppData\\Roaming\\nltk_data...\n",
      "[nltk_data]   Package movie_reviews is already up-to-date!\n"
     ]
    },
    {
     "data": {
      "text/plain": [
       "True"
      ]
     },
     "execution_count": 6,
     "metadata": {},
     "output_type": "execute_result"
    }
   ],
   "source": [
    "# Download the movie reviews dataset from NLTK\n",
    "\n",
    "nltk.download('movie_reviews')\n"
   ]
  },
  {
   "cell_type": "markdown",
   "id": "30ec34de-b2a5-44c3-a2ff-d99d80377c4f",
   "metadata": {},
   "source": [
    "### Step 3: Load movie reviews dataset\n",
    "\n",
    "Loads the movie reviews dataset into a list of documents. Each document is a tuple containing a list of words and the corresponding sentiment category (positive or negative)."
   ]
  },
  {
   "cell_type": "code",
   "execution_count": 7,
   "id": "a2619201-47f5-4601-b9c6-bfb318f3a62d",
   "metadata": {},
   "outputs": [],
   "source": [
    "# Load movie reviews dataset\n",
    "\n",
    "documents = [(list(movie_reviews.words(fileid)), category)\n",
    "             for category in movie_reviews.categories()\n",
    "             for fileid in movie_reviews.fileids(category)]\n"
   ]
  },
  {
   "cell_type": "markdown",
   "id": "960d4a86-a140-4f20-a208-692295c28bbc",
   "metadata": {},
   "source": [
    "### Step 4: Shuffle and Extract Features\n",
    "\n",
    "This Shuffles the documents randomly for better training and then Combines the lists of words into sentences (text) for TF-IDF feature extraction"
   ]
  },
  {
   "cell_type": "code",
   "execution_count": 8,
   "id": "0c322935-dc7b-4eac-9d05-eaa5ed6a467d",
   "metadata": {},
   "outputs": [],
   "source": [
    "# Shuffle and Extract Features\n",
    "\n",
    "import random\n",
    "random.shuffle(documents)\n",
    "documents_text = [' '.join(words) for words, category in documents]\n",
    "\n"
   ]
  },
  {
   "cell_type": "markdown",
   "id": "748f2cdf-d4af-47cd-8373-5b23fe8276c7",
   "metadata": {},
   "source": [
    "### Step 5: Split Dataset into Training and Testing Sets\n",
    "\n",
    "Splits the dataset into training and testing sets. `features_train` and `labels_train` are used for training, and `features_test` and `labels_test` are used for testing."
   ]
  },
  {
   "cell_type": "code",
   "execution_count": 9,
   "id": "afd67eba",
   "metadata": {},
   "outputs": [],
   "source": [
    "# Split Dataset into Training and Testing Sets (Data Processing and Cleaning)\n",
    "\n",
    "features = documents_text\n",
    "labels = [category for words, category in documents]\n",
    "features_train, features_test, labels_train, labels_test = train_test_split(features, labels, test_size=0.2, random_state=42)\n"
   ]
  },
  {
   "cell_type": "markdown",
   "id": "47d8729b-6d02-4bbb-8d05-05f5ae99d28a",
   "metadata": {},
   "source": [
    "## Step 6: Text Preprocessing and Feature Extraction using TF-IDF\n",
    "\n",
    "Here, `TfidfVectorizer` is used to convert the movie reviews into a TF-IDF matrix and then `max_features=3000` Limits the number of features to the top 3000 most frequent words then `stop_words='english'` Removes common English stop words."
   ]
  },
  {
   "cell_type": "code",
   "execution_count": 10,
   "id": "e08214a6-fb20-4c24-95b2-24465861505d",
   "metadata": {},
   "outputs": [],
   "source": [
    "# Text Preprocessing and Feature Extraction using TF-IDF\n",
    "\n",
    "tfidf_vectorizer = TfidfVectorizer(max_features=3000, stop_words='english')\n",
    "features_train_tfidf = tfidf_vectorizer.fit_transform(features_train)\n",
    "features_test_tfidf = tfidf_vectorizer.transform(features_test)\n"
   ]
  },
  {
   "cell_type": "markdown",
   "id": "47b68243-b2d2-4536-a60a-f68b3c05475a",
   "metadata": {},
   "source": [
    "### Step 7: Train a Support Vector Machine (SVM) classifier\n",
    "\n",
    "Here the code utilizes a Support Vector Machine (SVM) classifier with a linear kernel, training the model with the TF-IDF features and labels from the training set.\n",
    "Here, Code Initializes a Support Vector Machine classifier with a linear kernel then Fits (trains) the classifier using the TF-IDF features and corresponding labels from the training set."
   ]
  },
  {
   "cell_type": "code",
   "execution_count": 11,
   "id": "f5cbb412-003f-4fc8-9448-d2ecd213c53b",
   "metadata": {},
   "outputs": [
    {
     "data": {
      "text/html": [
       "<style>#sk-container-id-1 {color: black;}#sk-container-id-1 pre{padding: 0;}#sk-container-id-1 div.sk-toggleable {background-color: white;}#sk-container-id-1 label.sk-toggleable__label {cursor: pointer;display: block;width: 100%;margin-bottom: 0;padding: 0.3em;box-sizing: border-box;text-align: center;}#sk-container-id-1 label.sk-toggleable__label-arrow:before {content: \"▸\";float: left;margin-right: 0.25em;color: #696969;}#sk-container-id-1 label.sk-toggleable__label-arrow:hover:before {color: black;}#sk-container-id-1 div.sk-estimator:hover label.sk-toggleable__label-arrow:before {color: black;}#sk-container-id-1 div.sk-toggleable__content {max-height: 0;max-width: 0;overflow: hidden;text-align: left;background-color: #f0f8ff;}#sk-container-id-1 div.sk-toggleable__content pre {margin: 0.2em;color: black;border-radius: 0.25em;background-color: #f0f8ff;}#sk-container-id-1 input.sk-toggleable__control:checked~div.sk-toggleable__content {max-height: 200px;max-width: 100%;overflow: auto;}#sk-container-id-1 input.sk-toggleable__control:checked~label.sk-toggleable__label-arrow:before {content: \"▾\";}#sk-container-id-1 div.sk-estimator input.sk-toggleable__control:checked~label.sk-toggleable__label {background-color: #d4ebff;}#sk-container-id-1 div.sk-label input.sk-toggleable__control:checked~label.sk-toggleable__label {background-color: #d4ebff;}#sk-container-id-1 input.sk-hidden--visually {border: 0;clip: rect(1px 1px 1px 1px);clip: rect(1px, 1px, 1px, 1px);height: 1px;margin: -1px;overflow: hidden;padding: 0;position: absolute;width: 1px;}#sk-container-id-1 div.sk-estimator {font-family: monospace;background-color: #f0f8ff;border: 1px dotted black;border-radius: 0.25em;box-sizing: border-box;margin-bottom: 0.5em;}#sk-container-id-1 div.sk-estimator:hover {background-color: #d4ebff;}#sk-container-id-1 div.sk-parallel-item::after {content: \"\";width: 100%;border-bottom: 1px solid gray;flex-grow: 1;}#sk-container-id-1 div.sk-label:hover label.sk-toggleable__label {background-color: #d4ebff;}#sk-container-id-1 div.sk-serial::before {content: \"\";position: absolute;border-left: 1px solid gray;box-sizing: border-box;top: 0;bottom: 0;left: 50%;z-index: 0;}#sk-container-id-1 div.sk-serial {display: flex;flex-direction: column;align-items: center;background-color: white;padding-right: 0.2em;padding-left: 0.2em;position: relative;}#sk-container-id-1 div.sk-item {position: relative;z-index: 1;}#sk-container-id-1 div.sk-parallel {display: flex;align-items: stretch;justify-content: center;background-color: white;position: relative;}#sk-container-id-1 div.sk-item::before, #sk-container-id-1 div.sk-parallel-item::before {content: \"\";position: absolute;border-left: 1px solid gray;box-sizing: border-box;top: 0;bottom: 0;left: 50%;z-index: -1;}#sk-container-id-1 div.sk-parallel-item {display: flex;flex-direction: column;z-index: 1;position: relative;background-color: white;}#sk-container-id-1 div.sk-parallel-item:first-child::after {align-self: flex-end;width: 50%;}#sk-container-id-1 div.sk-parallel-item:last-child::after {align-self: flex-start;width: 50%;}#sk-container-id-1 div.sk-parallel-item:only-child::after {width: 0;}#sk-container-id-1 div.sk-dashed-wrapped {border: 1px dashed gray;margin: 0 0.4em 0.5em 0.4em;box-sizing: border-box;padding-bottom: 0.4em;background-color: white;}#sk-container-id-1 div.sk-label label {font-family: monospace;font-weight: bold;display: inline-block;line-height: 1.2em;}#sk-container-id-1 div.sk-label-container {text-align: center;}#sk-container-id-1 div.sk-container {/* jupyter's `normalize.less` sets `[hidden] { display: none; }` but bootstrap.min.css set `[hidden] { display: none !important; }` so we also need the `!important` here to be able to override the default hidden behavior on the sphinx rendered scikit-learn.org. See: https://github.com/scikit-learn/scikit-learn/issues/21755 */display: inline-block !important;position: relative;}#sk-container-id-1 div.sk-text-repr-fallback {display: none;}</style><div id=\"sk-container-id-1\" class=\"sk-top-container\"><div class=\"sk-text-repr-fallback\"><pre>SVC(kernel=&#x27;linear&#x27;)</pre><b>In a Jupyter environment, please rerun this cell to show the HTML representation or trust the notebook. <br />On GitHub, the HTML representation is unable to render, please try loading this page with nbviewer.org.</b></div><div class=\"sk-container\" hidden><div class=\"sk-item\"><div class=\"sk-estimator sk-toggleable\"><input class=\"sk-toggleable__control sk-hidden--visually\" id=\"sk-estimator-id-1\" type=\"checkbox\" checked><label for=\"sk-estimator-id-1\" class=\"sk-toggleable__label sk-toggleable__label-arrow\">SVC</label><div class=\"sk-toggleable__content\"><pre>SVC(kernel=&#x27;linear&#x27;)</pre></div></div></div></div></div>"
      ],
      "text/plain": [
       "SVC(kernel='linear')"
      ]
     },
     "execution_count": 11,
     "metadata": {},
     "output_type": "execute_result"
    }
   ],
   "source": [
    "# Train a Support Vector Machine (SVM) classifier (Sentiment Analysis Implementation)\n",
    "\n",
    "svm_classifier = SVC(kernel='linear')\n",
    "svm_classifier.fit(features_train_tfidf, labels_train)\n"
   ]
  },
  {
   "cell_type": "markdown",
   "id": "76f3f943-1cd0-465a-98ec-b75bc14c1145",
   "metadata": {},
   "source": [
    "### Step 8: Test the classifier\n",
    "\n",
    "Here we Uses the trained classifier to make predictions on the testing set."
   ]
  },
  {
   "cell_type": "code",
   "execution_count": 12,
   "id": "e9dc6449-d901-41a3-9fff-802edad1ff18",
   "metadata": {},
   "outputs": [],
   "source": [
    "# Test the classifier\n",
    "\n",
    "predictions = svm_classifier.predict(features_test_tfidf)\n"
   ]
  },
  {
   "cell_type": "markdown",
   "id": "07876301-6571-4940-a298-2b8508299b21",
   "metadata": {},
   "source": [
    "### Step 9: Evaluate the classifier\n",
    "\n",
    "This code Evaluates the performance of the classifier using accuracy, confusion matrix, and classification report metrics."
   ]
  },
  {
   "cell_type": "code",
   "execution_count": 13,
   "id": "a54e05c2",
   "metadata": {},
   "outputs": [],
   "source": [
    "# Evaluate the classifier\n",
    "\n",
    "accuracy = accuracy_score(labels_test, predictions)\n",
    "conf_matrix = confusion_matrix(labels_test, predictions)\n",
    "class_report = classification_report(labels_test, predictions)\n"
   ]
  },
  {
   "cell_type": "markdown",
   "id": "0125abdd",
   "metadata": {},
   "source": [
    "### Step 10: Visualize Accuracy\n",
    "\n",
    "Here, `plt.figure(figsize=(8, 6))` Creates a new figure with a specified size (8 inches by 6 inches) and `sns.barplot(x=['Accuracy'], y=[accuracy], palette=\"Blues\")` Uses Seaborn to create a bar plot. The x-axis represents the label 'Accuracy,' and the y-axis represents the actual accuracy value. The color palette is set to \"Blues.\" and `plt.title('Model Accuracy')` adds a title to the plot, indicating that it represents the model accuracy and `plt.ylim(0, 1)` Sets the y-axis limits to ensure that the accuracy values are within the range [0, 1] then at last `plt.show()` displays the plot."
   ]
  },
  {
   "cell_type": "code",
   "execution_count": 14,
   "id": "37ab65ea",
   "metadata": {},
   "outputs": [
    {
     "data": {
      "image/png": "[encoded data removed]",
      "text/plain": [
       "<Figure size 800x600 with 1 Axes>"
      ]
     },
     "metadata": {},
     "output_type": "display_data"
    }
   ],
   "source": [
    "# Visualize Accuracy (Results Visualization [bar chart])\n",
    "\n",
    "plt.figure(figsize=(8, 6))\n",
    "sns.barplot(x=['Accuracy'], y=[accuracy], palette=\"Blues\")\n",
    "plt.title('Model Accuracy')\n",
    "plt.ylim(0, 1)\n",
    "plt.show()\n"
   ]
  },
  {
   "cell_type": "markdown",
   "id": "063923b6",
   "metadata": {},
   "source": [
    "### Step 11: Visualize Confusion Matrix\n",
    "\n",
    "here, `plt.figure(figsize=(8, 6))` Creates a new figure with a specified size (8 inches by 6 inches) and `sns.heatmap(conf_matrix, annot=True, fmt='d', cmap='Blues', cbar=False, xticklabels=['Negative', 'Positive'], yticklabels=['Negative', 'Positive'])` Uses Seaborn to create a heatmap representing the confusion matrix. The conf_matrix is provided, and annotations (actual values) are displayed. The color map is set to \"Blues,\" and axis labels are customized for better interpretation and `plt.title('Confusion Matrix')` adds a title to the plot, indicating that it represents the confusion matrix then `plt.xlabel('Predicted')` and `plt.ylabel('True')` adds labels to the x-axis and y-axis, indicating the predicted and true labels, respectively and then finally\n",
    "`plt.show()` displays the plot."
   ]
  },
  {
   "cell_type": "code",
   "execution_count": 15,
   "id": "9a9f05a4",
   "metadata": {},
   "outputs": [
    {
     "data": {
      "image/png": "[encoded data removed]",
      "text/plain": [
       "<Figure size 800x600 with 1 Axes>"
      ]
     },
     "metadata": {},
     "output_type": "display_data"
    }
   ],
   "source": [
    "# Visualize Confusion Matrix(Results Visualization [heatmap])\n",
    "\n",
    "plt.figure(figsize=(8, 6))\n",
    "sns.heatmap(conf_matrix, annot=True, fmt='d', cmap='Blues', cbar=False, xticklabels=['Negative', 'Positive'], yticklabels=['Negative', 'Positive'])\n",
    "plt.title('Confusion Matrix')\n",
    "plt.xlabel('Predicted')\n",
    "plt.ylabel('True')\n",
    "plt.show()\n"
   ]
  },
  {
   "cell_type": "markdown",
   "id": "a5d35a27",
   "metadata": {},
   "source": [
    "### Step 12: Display Classification Report\n",
    "\n",
    "In this step the `print(\"Classification Report:\\n\", class_report)` Prints the classification report, which includes precision, recall, F1-score, and support for each class (negative and positive). The class_report variable contains this information."
   ]
  },
  {
   "cell_type": "code",
   "execution_count": 16,
   "id": "1e34ed85",
   "metadata": {},
   "outputs": [
    {
     "name": "stdout",
     "output_type": "stream",
     "text": [
      "Classification Report:\n",
      "               precision    recall  f1-score   support\n",
      "\n",
      "         neg       0.84      0.81      0.83       200\n",
      "         pos       0.82      0.85      0.84       200\n",
      "\n",
      "    accuracy                           0.83       400\n",
      "   macro avg       0.83      0.83      0.83       400\n",
      "weighted avg       0.83      0.83      0.83       400\n",
      "\n"
     ]
    }
   ],
   "source": [
    "# Display Classification Report(Results Visualization)\n",
    "\n",
    "print(\"Classification Report:\\n\", class_report)\n"
   ]
  },
  {
   "cell_type": "markdown",
   "id": "e71c4a17",
   "metadata": {},
   "source": [
    "### Step 13: Detailed Explanation of My Project\n",
    "\n",
    "I have chosen the movie review sentiment analysis project.This employs Python, leveraging libraries such as NLTK, scikit-learn, Matplotlib, and Seaborn to analyze and classify sentiments in movie reviews. The initial phase involves data acquisition, where the NLTK library is utilized to download a movie reviews dataset. Subsequently, the data is processed and cleaned, incorporating techniques like shuffling and splitting into training and testing sets. Text preprocessing involves the TF-IDF feature extraction method, converting reviews into numerical representations for machine learning analysis.\n",
    "\n",
    "The core of the sentiment analysis is implemented using a Support Vector Machine (SVM) classifier, a robust choice for text classification tasks. The model is trained on the TF-IDF features derived from the training set. The project adheres to best practices in machine learning, employing metrics like accuracy, confusion matrix, and a classification report for evaluation.\n",
    "\n",
    "For results visualization, Matplotlib and Seaborn are employed to create insightful visualizations. A bar chart represents the model accuracy, and a heatmap illustrates the confusion matrix, enhancing the interpretability of the sentiment analysis outcomes. This comprehensive approach, from data acquisition to visualization, encapsulates a thorough sentiment analysis project that can be extended or adapted for various domains.\n",
    "\n",
    "\n",
    "Thank you,   \n",
    "shubham"
   ]
  }
 ],
 "metadata": {
  "kernelspec": {
   "display_name": "Python 3 (ipykernel)",
   "language": "python",
   "name": "python3"
  },
  "language_info": {
   "codemirror_mode": {
    "name": "ipython",
    "version": 3
   },
   "file_extension": ".py",
   "mimetype": "text/x-python",
   "name": "python",
   "nbconvert_exporter": "python",
   "pygments_lexer": "ipython3",
   "version": "3.11.5"
  }
 },
 "nbformat": 4,
 "nbformat_minor": 5
}
